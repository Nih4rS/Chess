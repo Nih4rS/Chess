{
 "cells": [
  {
   "cell_type": "markdown",
   "metadata": {},
   "source": [
    "Step 1: Install Required Libraries  "
   ]
  },
  {
   "cell_type": "code",
   "execution_count": 1,
   "metadata": {},
   "outputs": [
    {
     "name": "stdout",
     "output_type": "stream",
     "text": [
      "Collecting requests\n",
      "  Downloading requests-2.32.3-py3-none-any.whl (64 kB)\n",
      "     ---------------------------------------- 64.9/64.9 kB 3.4 MB/s eta 0:00:00\n",
      "Collecting python-chess\n",
      "  Downloading python_chess-1.999-py3-none-any.whl (1.4 kB)\n",
      "Collecting charset-normalizer<4,>=2\n",
      "  Downloading charset_normalizer-3.4.1-cp311-cp311-win_amd64.whl (102 kB)\n",
      "     ---------------------------------------- 102.4/102.4 kB ? eta 0:00:00\n",
      "Collecting idna<4,>=2.5\n",
      "  Downloading idna-3.10-py3-none-any.whl (70 kB)\n",
      "     ---------------------------------------- 70.4/70.4 kB 3.8 MB/s eta 0:00:00\n",
      "Collecting urllib3<3,>=1.21.1\n",
      "  Downloading urllib3-2.3.0-py3-none-any.whl (128 kB)\n",
      "     -------------------------------------- 128.4/128.4 kB 7.9 MB/s eta 0:00:00\n",
      "Collecting certifi>=2017.4.17\n",
      "  Downloading certifi-2025.1.31-py3-none-any.whl (166 kB)\n",
      "     ---------------------------------------- 166.4/166.4 kB ? eta 0:00:00\n",
      "Collecting chess<2,>=1\n",
      "  Downloading chess-1.11.2.tar.gz (6.1 MB)\n",
      "     ---------------------------------------- 6.1/6.1 MB 97.2 MB/s eta 0:00:00\n",
      "  Preparing metadata (setup.py): started\n",
      "  Preparing metadata (setup.py): finished with status 'done'\n",
      "Installing collected packages: urllib3, idna, chess, charset-normalizer, certifi, requests, python-chess\n",
      "  Running setup.py install for chess: started\n",
      "  Running setup.py install for chess: finished with status 'done'\n",
      "Successfully installed certifi-2025.1.31 charset-normalizer-3.4.1 chess-1.11.2 idna-3.10 python-chess-1.999 requests-2.32.3 urllib3-2.3.0\n",
      "Note: you may need to restart the kernel to use updated packages.\n"
     ]
    },
    {
     "name": "stderr",
     "output_type": "stream",
     "text": [
      "  DEPRECATION: chess is being installed using the legacy 'setup.py install' method, because it does not have a 'pyproject.toml' and the 'wheel' package is not installed. pip 23.1 will enforce this behaviour change. A possible replacement is to enable the '--use-pep517' option. Discussion can be found at https://github.com/pypa/pip/issues/8559\n",
      "  WARNING: The script normalizer.exe is installed in 'c:\\Users\\Nih4r\\AppData\\Local\\Programs\\Python\\Python311\\Scripts' which is not on PATH.\n",
      "  Consider adding this directory to PATH or, if you prefer to suppress this warning, use --no-warn-script-location.\n",
      "\n",
      "[notice] A new release of pip available: 22.3.1 -> 25.0.1\n",
      "[notice] To update, run: python.exe -m pip install --upgrade pip\n"
     ]
    }
   ],
   "source": [
    "pip install requests python-chess\n"
   ]
  },
  {
   "cell_type": "code",
   "execution_count": null,
   "metadata": {},
   "outputs": [],
   "source": [
    "import requests\n",
    "import chess.pgn\n",
    "from io import StringIO\n",
    "\n",
    "TOKEN = 'your_personal_oauth_token_here'\n",
    "headers = {\n",
    "    'Authorization': f'Bearer {TOKEN}'\n",
    "}\n",
    "\n",
    "def fetch_my_recent_games(max_games=5):\n",
    "    url = 'https://lichess.org/api/games/user/me'\n",
    "    params = {\n",
    "        'max': max_games,\n",
    "        'pgnInJson': True,\n",
    "        'moves': True,\n",
    "        'tags': True,\n",
    "        'clocks': True,\n",
    "        'evals': True,\n",
    "    }\n",
    "\n",
    "    response = requests.get(url, headers=headers, params=params, stream=True)\n",
    "    response.raise_for_status()\n",
    "\n",
    "    games = []\n",
    "    for line in response.iter_lines():\n",
    "        if line:\n",
    "            game_data = line.decode('utf-8')\n",
    "            games.append(game_data)\n",
    "\n",
    "    return games\n",
    "\n",
    "def parse_pgn(pgn_string):\n",
    "    game_io = StringIO(pgn_string)\n",
    "    game = chess.pgn.read_game(game_io)\n",
    "    return game\n",
    "\n",
    "if __name__ == '__main__':\n",
    "    recent_games = fetch_my_recent_games(5)\n",
    "    for idx, game_json in enumerate(recent_games):\n",
    "        print(f\"\\n--- Game {idx + 1} ---\")\n",
    "        print(game_json)\n",
    "        \n",
    "        # Parse PGN if needed\n",
    "        game_dict = eval(game_json)  # careful with eval in production code; consider json.loads()\n",
    "        pgn = game_dict['pgn']\n",
    "        parsed_game = parse_pgn(pgn)\n",
    "        print(parsed_game)\n"
   ]
  },
  {
   "cell_type": "code",
   "execution_count": null,
   "metadata": {},
   "outputs": [],
   "source": []
  },
  {
   "cell_type": "code",
   "execution_count": null,
   "metadata": {},
   "outputs": [],
   "source": []
  },
  {
   "cell_type": "code",
   "execution_count": null,
   "metadata": {},
   "outputs": [],
   "source": []
  },
  {
   "cell_type": "markdown",
   "metadata": {},
   "source": []
  }
 ],
 "metadata": {
  "kernelspec": {
   "display_name": "Python 3",
   "language": "python",
   "name": "python3"
  },
  "language_info": {
   "codemirror_mode": {
    "name": "ipython",
    "version": 3
   },
   "file_extension": ".py",
   "mimetype": "text/x-python",
   "name": "python",
   "nbconvert_exporter": "python",
   "pygments_lexer": "ipython3",
   "version": "3.11.1"
  }
 },
 "nbformat": 4,
 "nbformat_minor": 2
}
